{
 "cells": [
  {
   "cell_type": "code",
   "execution_count": 1,
   "metadata": {},
   "outputs": [],
   "source": [
    "from frc3223_azurite.motors import *\n",
    "from frc3223_azurite import motors\n",
    "from frc3223_azurite.conversions import *"
   ]
  },
  {
   "cell_type": "code",
   "execution_count": 2,
   "metadata": {},
   "outputs": [],
   "source": [
    "motor = bag\n",
    "\n",
    "def calculate(motor, Ng, r, voltage, mass, L, N=1, eff=0.5):\n",
    "    f = mass * g\n",
    "    torque = r * f / eff\n",
    "    motor_torque = torque / Ng / N\n",
    "    w = motor.speed_at_torque_and_voltage(motor_torque, voltage)\n",
    "    i = motor.current_at_torque(motor_torque)\n",
    "    w_out = w / Ng\n",
    "    v_out = w_out * r\n",
    "    time = L / v_out\n",
    "    print(\"%s @ Ng=%s r=%.3f m, V=%.2f V, m=%s kg, L=%.3f m\" % (motor.name, Ng, r, voltage, mass, L))\n",
    "    print(' g torque: %s Nm' % torque)\n",
    "    print(\" motor torque: %s Nm\" % motor_torque)\n",
    "    print(\" motor current: %s A\" % i)\n",
    "    print(\" motor velocity: %s rad/s\" % w)\n",
    "    print(\" winch velocity: %s rad/s\" % w_out)\n",
    "    print(\" winch velocity: %s in/s\" % meter_to_inch(v_out))\n",
    "    print(\" time to climb: %s s\" % time)\n",
    "             \n",
    "    "
   ]
  },
  {
   "cell_type": "code",
   "execution_count": 4,
   "metadata": {},
   "outputs": [
    {
     "name": "stdout",
     "output_type": "stream",
     "text": [
      "neo @ Ng=10 r=0.014 m, V=5.00 V, m=36.288 kg, L=0.483 m\n",
      " g torque: 10.12706924544 Nm\n",
      " motor torque: 1.012706924544 Nm\n",
      " motor current: 40.89777964504615 A\n",
      " motor velocity: 16.14599377106859 rad/s\n",
      " winch velocity: 1.614599377106859 rad/s\n",
      " winch velocity: 0.9041756511798411 in/s\n",
      " time to climb: 21.013616076928496 s\n"
     ]
    }
   ],
   "source": [
    "calculate(motors.neo, Ng=10, r=inch_to_meter(.56), voltage=5, mass=lbs_to_kg(80), L=inch_to_meter(19))"
   ]
  },
  {
   "cell_type": "code",
   "execution_count": 5,
   "metadata": {},
   "outputs": [
    {
     "data": {
      "text/plain": [
       "130.0"
      ]
     },
     "execution_count": 5,
     "metadata": {},
     "output_type": "execute_result"
    }
   ],
   "source": [
    "50 * motors.neo.stall_torque"
   ]
  },
  {
   "cell_type": "code",
   "execution_count": 9,
   "metadata": {},
   "outputs": [
    {
     "name": "stdout",
     "output_type": "stream",
     "text": [
      "bag @ Ng=25 r=0.054 m, V=10.70 V, m=13.608 kg, L=1.829 m\n",
      " g torque: 7.188410759040001 Nm\n",
      " motor torque: 0.14376821518080002 Nm\n",
      " motor current: 17.72026838274977 A\n",
      " motor velocity: 769.2193485931767 rad/s\n",
      " winch velocity: 30.76877394372707 rad/s\n",
      " time to climb: 1.1037899726864935 s\n"
     ]
    }
   ],
   "source": [
    "calculate(bag, 25, inch_to_meter(2.12), 10.7, lbs_to_kg(30.), inch_to_meter(72), N=2)"
   ]
  },
  {
   "cell_type": "code",
   "execution_count": 5,
   "metadata": {},
   "outputs": [
    {
     "data": {
      "text/plain": [
       "1.7971026897600002"
      ]
     },
     "execution_count": 5,
     "metadata": {},
     "output_type": "execute_result"
    }
   ],
   "source": [
    "lbs_to_kg(30) * inch_to_meter(2.12) * g / 4."
   ]
  },
  {
   "cell_type": "code",
   "execution_count": 6,
   "metadata": {},
   "outputs": [
    {
     "data": {
      "text/plain": [
       "41.00140465116279"
      ]
     },
     "execution_count": 6,
     "metadata": {},
     "output_type": "execute_result"
    }
   ],
   "source": [
    "(1 - 0.0718 / 0.43 ) * 1380 * 10.7 / 12 / 25"
   ]
  },
  {
   "cell_type": "code",
   "execution_count": 7,
   "metadata": {},
   "outputs": [
    {
     "data": {
      "text/plain": [
       "0.0718"
      ]
     },
     "execution_count": 7,
     "metadata": {},
     "output_type": "execute_result"
    }
   ],
   "source": [
    "7.18 / 4 / 25"
   ]
  },
  {
   "cell_type": "code",
   "execution_count": 8,
   "metadata": {},
   "outputs": [
    {
     "name": "stdout",
     "output_type": "stream",
     "text": [
      "Help on module frc3223_azurite.motors in frc3223_azurite:\n",
      "\n",
      "NAME\n",
      "    frc3223_azurite.motors\n",
      "\n",
      "CLASSES\n",
      "    builtins.object\n",
      "        MotorParams\n",
      "        MotorSystem\n",
      "    \n",
      "    class MotorParams(builtins.object)\n",
      "     |  Methods defined here:\n",
      "     |  \n",
      "     |  __init__(self, name, stall_torque, stall_current, free_speed, voltage=12)\n",
      "     |      Initialize self.  See help(type(self)) for accurate signature.\n",
      "     |  \n",
      "     |  back_emf(self, invel_radps)\n",
      "     |  \n",
      "     |  current_at_torque(self, torque_nm)\n",
      "     |  \n",
      "     |  kspeed(self)\n",
      "     |  \n",
      "     |  ktorque(self)\n",
      "     |  \n",
      "     |  resistance(self)\n",
      "     |  \n",
      "     |  speed_at_torque(self, intorque_Nm)\n",
      "     |  \n",
      "     |  speed_at_torque_and_voltage(self, intorque_Nm, voltage_v)\n",
      "     |  \n",
      "     |  torque_at_current(self, current_a)\n",
      "     |  \n",
      "     |  torque_at_speed(self, invel_radps)\n",
      "     |  \n",
      "     |  torque_at_speed_and_voltage(self, invel_radps, voltage_v)\n",
      "     |  \n",
      "     |  ----------------------------------------------------------------------\n",
      "     |  Data descriptors defined here:\n",
      "     |  \n",
      "     |  __dict__\n",
      "     |      dictionary for instance variables (if defined)\n",
      "     |  \n",
      "     |  __weakref__\n",
      "     |      list of weak references to the object (if defined)\n",
      "    \n",
      "    class MotorSystem(builtins.object)\n",
      "     |  Methods defined here:\n",
      "     |  \n",
      "     |  __init__(self, motor, motor_count, gearing_ratio)\n",
      "     |      Initialize self.  See help(type(self)) for accurate signature.\n",
      "     |  \n",
      "     |  motor_back_emf(self, invel_radps)\n",
      "     |  \n",
      "     |  motor_current_at_torque(self, torque_nm)\n",
      "     |  \n",
      "     |  speed_at_torque(self, intorque_Nm)\n",
      "     |  \n",
      "     |  speed_at_torque_and_voltage(self, intorque_Nm, voltage_v)\n",
      "     |  \n",
      "     |  torque_at_motor_current(self, motor_current_a)\n",
      "     |  \n",
      "     |  torque_at_speed(self, invel_radps)\n",
      "     |  \n",
      "     |  torque_at_speed_and_voltage(self, invel_radps, voltage_v)\n",
      "     |  \n",
      "     |  ----------------------------------------------------------------------\n",
      "     |  Data descriptors defined here:\n",
      "     |  \n",
      "     |  __dict__\n",
      "     |      dictionary for instance variables (if defined)\n",
      "     |  \n",
      "     |  __weakref__\n",
      "     |      list of weak references to the object (if defined)\n",
      "     |  \n",
      "     |  free_speed\n",
      "     |  \n",
      "     |  name\n",
      "     |  \n",
      "     |  stall_torque\n",
      "\n",
      "DATA\n",
      "    am9015 = <frc3223_azurite.motors.MotorParams object>\n",
      "    bag = <frc3223_azurite.motors.MotorParams object>\n",
      "    cim = <frc3223_azurite.motors.MotorParams object>\n",
      "    minicim = <frc3223_azurite.motors.MotorParams object>\n",
      "    neo = <frc3223_azurite.motors.MotorParams object>\n",
      "    redline = <frc3223_azurite.motors.MotorParams object>\n",
      "    rs775 = <frc3223_azurite.motors.MotorParams object>\n",
      "\n",
      "FILE\n",
      "    /home/ellery/.virtualenvs/mechsim/lib/python3.6/site-packages/frc3223_azurite-0.0.9-py3.6.egg/frc3223_azurite/motors.py\n",
      "\n",
      "\n"
     ]
    }
   ],
   "source": [
    "help(motors)"
   ]
  },
  {
   "cell_type": "code",
   "execution_count": null,
   "metadata": {},
   "outputs": [],
   "source": []
  }
 ],
 "metadata": {
  "kernelspec": {
   "display_name": "Python 3",
   "language": "python",
   "name": "python3"
  },
  "language_info": {
   "codemirror_mode": {
    "name": "ipython",
    "version": 3
   },
   "file_extension": ".py",
   "mimetype": "text/x-python",
   "name": "python",
   "nbconvert_exporter": "python",
   "pygments_lexer": "ipython3",
   "version": "3.6.8"
  }
 },
 "nbformat": 4,
 "nbformat_minor": 2
}
